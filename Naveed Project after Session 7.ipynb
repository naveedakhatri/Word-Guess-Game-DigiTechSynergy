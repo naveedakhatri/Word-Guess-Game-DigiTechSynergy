{
 "cells": [
  {
   "cell_type": "code",
   "execution_count": 27,
   "id": "9d6add17",
   "metadata": {},
   "outputs": [],
   "source": [
    "words = []\n",
    "filename = \"words.txt\"\n",
    "with open(filename) as f:\n",
    "    for i in f:\n",
    "        words.append(i.rstrip())\n",
    "#words"
   ]
  },
  {
   "cell_type": "code",
   "execution_count": 28,
   "id": "552e412f",
   "metadata": {},
   "outputs": [
    {
     "name": "stdout",
     "output_type": "stream",
     "text": [
      "How many guesses would you like to make? 01\n",
      "\n",
      "\n",
      "Enter your 5 letter word: kings\n",
      "_ _ _ _ s \n",
      "\n",
      "Wrong characters: ['k', 'i', 'n', 'g']\n",
      "Wrong positions: [] \n",
      "\n",
      "Turn 1 of 1 complete \n",
      "\n",
      "\n",
      "\n",
      "You lose! Correct answer was: helps\n"
     ]
    }
   ],
   "source": [
    "import random\n",
    "game = random.choice(words)\n",
    "#print(game)\n",
    "\n",
    "inv_char = []\n",
    "inv_pos = []\n",
    "Turn = 1\n",
    "\n",
    "a = input(\"How many guesses would you like to make? \")\n",
    "\n",
    "if not a.isnumeric():\n",
    "    while True:\n",
    "        print(\"Please enter the valid number\")\n",
    "        a = input()\n",
    "        if a.isnumeric() == True:\n",
    "            a = int(a)\n",
    "            break\n",
    "else:\n",
    "    a = int(a)\n",
    "    \n",
    "while Turn < a+1:\n",
    "    print(\"\\n\")\n",
    "    player = input(\"Enter your 5 letter word: \")\n",
    "\n",
    "    if len(player) != 5 or not player.isalpha():        \n",
    "        print(\"ERROR! Only 5 alpha characters are allowed.\")\n",
    "        continue\n",
    "\n",
    "    ind = 0\n",
    "    for i in player:\n",
    "        if i == game[ind]:\n",
    "            print(i, end = \" \")\n",
    "            if i in inv_pos:\n",
    "                inv_pos.remove(i)\n",
    "        else:\n",
    "            print(\"_\", end = \" \")\n",
    "            if i not in game and i not in inv_char:\n",
    "                inv_char.append(i)\n",
    "            else:\n",
    "                if i in game and i not in inv_pos:\n",
    "                    inv_pos.append(i)\n",
    "        ind += 1\n",
    "\n",
    "    if player == game:\n",
    "        print(\"\\n\")\n",
    "        print(\"Correct! It was:\", game)\n",
    "        break\n",
    "\n",
    "    print(\"\\n\")\n",
    "    print(\"Wrong characters:\", inv_char)\n",
    "    print(\"Wrong positions:\", inv_pos, \"\\n\")\n",
    "    print(\"Turn\", Turn, \"of\", a, \"complete\", \"\\n\")\n",
    "    if Turn == a-1:\n",
    "        print(\"LAST TURN NOW!\")\n",
    "\n",
    "    Turn += 1\n",
    "    if Turn == a+1:\n",
    "        print(\"\\n\")\n",
    "        print(\"You lose! Correct answer was:\", game)  "
   ]
  }
 ],
 "metadata": {
  "kernelspec": {
   "display_name": "Python 3 (ipykernel)",
   "language": "python",
   "name": "python3"
  },
  "language_info": {
   "codemirror_mode": {
    "name": "ipython",
    "version": 3
   },
   "file_extension": ".py",
   "mimetype": "text/x-python",
   "name": "python",
   "nbconvert_exporter": "python",
   "pygments_lexer": "ipython3",
   "version": "3.11.4"
  }
 },
 "nbformat": 4,
 "nbformat_minor": 5
}
